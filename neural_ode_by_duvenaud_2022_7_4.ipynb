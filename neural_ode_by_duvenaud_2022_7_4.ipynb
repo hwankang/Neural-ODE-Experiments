{
  "nbformat": 4,
  "nbformat_minor": 0,
  "metadata": {
    "colab": {
      "name": "neural ode by duvenaud 2022 7 4.ipynb",
      "private_outputs": true,
      "provenance": [],
      "authorship_tag": "ABX9TyMz7Vp8LN1wr58lSTzSAJpR",
      "include_colab_link": true
    },
    "kernelspec": {
      "name": "python3",
      "display_name": "Python 3"
    },
    "language_info": {
      "name": "python"
    },
    "gpuClass": "standard"
  },
  "cells": [
    {
      "cell_type": "markdown",
      "metadata": {
        "id": "view-in-github",
        "colab_type": "text"
      },
      "source": [
        "<a href=\"https://colab.research.google.com/github/hwankang/Neural-ODE-Experiments/blob/master/neural_ode_by_duvenaud_2022_7_4.ipynb\" target=\"_parent\"><img src=\"https://colab.research.google.com/assets/colab-badge.svg\" alt=\"Open In Colab\"/></a>"
      ]
    },
    {
      "cell_type": "markdown",
      "source": [
        ""
      ],
      "metadata": {
        "id": "F12O2T7Z6Whi"
      }
    },
    {
      "cell_type": "code",
      "execution_count": null,
      "metadata": {
        "id": "fA50zxur2HB-"
      },
      "outputs": [],
      "source": [
        "# Reference: http://implicit-layers-tutorial.org/neural_odes/\n",
        "#Contact: zkolter@cs.cmu.edu, duvenaud@cs.toronto.edu, mattjj@google.com\n",
        "import jax.numpy as jnp\n",
        "\n",
        "def mlp(params, inputs):\n",
        "  # A multi-layer perceptron, i.e. a fully-connected neural network.\n",
        "  for w, b in params:\n",
        "    outputs = jnp.dot(inputs, w) + b  # Linear transform\n",
        "    inputs = jnp.tanh(outputs)        # Nonlinearity\n",
        "  return outputs"
      ]
    },
    {
      "cell_type": "code",
      "source": [
        "def resnet(params, inputs, depth):\n",
        "  for i in range(depth):\n",
        "    outputs = mlp(params, inputs) + inputs\n",
        "  return outputs"
      ],
      "metadata": {
        "id": "OH67kzW32PsU"
      },
      "execution_count": null,
      "outputs": []
    },
    {
      "cell_type": "code",
      "source": [
        "import jax"
      ],
      "metadata": {
        "id": "BNBdns7F22Wa"
      },
      "execution_count": null,
      "outputs": []
    },
    {
      "cell_type": "code",
      "source": [
        "import numpy.random as npr\n",
        "#from jax.api import jit, grad\n",
        "from jax import jit, grad\n",
        "\n",
        "resnet_depth = 3\n",
        "def resnet_squared_loss(params, inputs, targets):\n",
        "  preds = resnet(params, inputs, resnet_depth)\n",
        "  return jnp.mean(jnp.sum((preds - targets)**2, axis=1))\n",
        "\n",
        "def init_random_params(scale, layer_sizes, rng=npr.RandomState(0)):\n",
        "  return [(scale * rng.randn(m, n), scale * rng.randn(n))\n",
        "          for m, n, in zip(layer_sizes[:-1], layer_sizes[1:])]\n",
        "\n",
        "# A simple gradient-descent optimizer.\n",
        "@jit\n",
        "def resnet_update(params, inputs, targets):\n",
        "  grads = grad(resnet_squared_loss)(params, inputs, targets)\n",
        "  return [(w - step_size * dw, b - step_size * db)\n",
        "          for (w, b), (dw, db) in zip(params, grads)]"
      ],
      "metadata": {
        "id": "xgQeXZBh2aH0"
      },
      "execution_count": null,
      "outputs": []
    },
    {
      "cell_type": "code",
      "source": [
        "# Toy 1D dataset.\n",
        "inputs = jnp.reshape(jnp.linspace(-2.0, 2.0, 10), (10, 1))\n",
        "targets = inputs**3 + 0.1 * inputs\n",
        "# Hyperparameters.\n",
        "layer_sizes = [1, 20, 1]\n",
        "param_scale = 1.0\n",
        "step_size = 0.01\n",
        "train_iters = 1000\n",
        "\n",
        "# Initialize and train.\n",
        "resnet_params = init_random_params(param_scale, layer_sizes)\n",
        "for i in range(train_iters):\n",
        "  resnet_params = resnet_update(resnet_params, inputs, targets)\n",
        "\n",
        "# Plot results.\n",
        "import matplotlib.pyplot as plt\n",
        "fig = plt.figure(figsize=(6, 4), dpi=150)\n",
        "ax = fig.gca()\n",
        "ax.scatter(inputs, targets, lw=0.5, color='green')\n",
        "fine_inputs = jnp.reshape(jnp.linspace(-3.0, 3.0, 100), (100, 1))\n",
        "ax.plot(fine_inputs, resnet(resnet_params, fine_inputs, resnet_depth), lw=0.5, color='blue')\n",
        "ax.set_xlabel('input')\n",
        "ax.set_ylabel('output')"
      ],
      "metadata": {
        "id": "1liAANXX3cAi"
      },
      "execution_count": null,
      "outputs": []
    },
    {
      "cell_type": "code",
      "source": [
        "def nn_dynamics(state, time, params):\n",
        "  state_and_time = jnp.hstack([state, jnp.array(time)])\n",
        "  return mlp(params, state_and_time)"
      ],
      "metadata": {
        "id": "4Lg1vUlk4M2F"
      },
      "execution_count": null,
      "outputs": []
    },
    {
      "cell_type": "code",
      "source": [
        "from jax.experimental.ode import odeint\n",
        "\n",
        "def odenet(params, input):\n",
        "  start_and_end_times = jnp.array([0.0, 1.0])\n",
        "  init_state, final_state = odeint(nn_dynamics, input, start_and_end_times, params)\n",
        "  return final_state"
      ],
      "metadata": {
        "id": "pDe5zf3O4YVU"
      },
      "execution_count": null,
      "outputs": []
    },
    {
      "cell_type": "code",
      "source": [
        "from jax import vmap\n",
        "batched_odenet = vmap(odenet, in_axes=(None, 0))"
      ],
      "metadata": {
        "id": "hW4CWV7R4dJv"
      },
      "execution_count": null,
      "outputs": []
    },
    {
      "cell_type": "code",
      "source": [
        "# We need to change the input dimension to 2, to allow time-dependent dynamics.\n",
        "odenet_layer_sizes = [2, 20, 1]\n",
        "\n",
        "def odenet_loss(params, inputs, targets):\n",
        "  preds = batched_odenet(params, inputs)\n",
        "  return jnp.mean(jnp.sum((preds - targets)**2, axis=1))\n",
        "\n",
        "@jit\n",
        "def odenet_update(params, inputs, targets):\n",
        "  grads = grad(odenet_loss)(params, inputs, targets)\n",
        "  return [(w - step_size * dw, b - step_size * db)\n",
        "          for (w, b), (dw, db) in zip(params, grads)]\n",
        "\n",
        "# Initialize and train ODE-Net.\n",
        "odenet_params = init_random_params(param_scale, odenet_layer_sizes)\n",
        "\n",
        "for i in range(train_iters):\n",
        "  odenet_params = odenet_update(odenet_params, inputs, targets)\n",
        "\n",
        "# Plot resulting model.\n",
        "fig = plt.figure(figsize=(6, 4), dpi=150)\n",
        "ax = fig.gca()\n",
        "ax.scatter(inputs, targets, lw=0.5, color='green')\n",
        "fine_inputs = jnp.reshape(jnp.linspace(-3.0, 3.0, 100), (100, 1))\n",
        "ax.plot(fine_inputs, resnet(resnet_params, fine_inputs, resnet_depth), lw=0.5, color='blue')\n",
        "ax.plot(fine_inputs, batched_odenet(odenet_params, fine_inputs), lw=0.5, color='red')\n",
        "ax.set_xlabel('input')\n",
        "ax.set_ylabel('output')\n",
        "plt.legend(('Resnet predictions', 'ODE Net predictions'))"
      ],
      "metadata": {
        "id": "zYfaL6Uv4gmo"
      },
      "execution_count": null,
      "outputs": []
    },
    {
      "cell_type": "code",
      "source": [
        "fig = plt.figure(figsize=(6, 4), dpi=150)\n",
        "ax = fig.gca()\n",
        "\n",
        "@jit\n",
        "def odenet_times(params, input, times):\n",
        "  def dynamics_func(state, time, params):\n",
        "    return mlp(params, jnp.hstack([state, jnp.array(time)]))\n",
        "  return odeint(dynamics_func, input, times, params)\n",
        "\n",
        "times = jnp.linspace(0.0, 1.0, 200)\n",
        "\n",
        "for i in fine_inputs:\n",
        "  ax.plot(odenet_times(odenet_params, i, times), times, lw=0.5)\n",
        "\n",
        "ax.set_xlabel('input / output')\n",
        "ax.set_ylabel('time / depth')"
      ],
      "metadata": {
        "id": "cO9IKTCF5XKx"
      },
      "execution_count": null,
      "outputs": []
    }
  ]
}